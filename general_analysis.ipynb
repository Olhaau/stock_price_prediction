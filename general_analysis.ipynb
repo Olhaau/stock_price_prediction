{
 "cells": [
  {
   "cell_type": "markdown",
   "metadata": {},
   "source": [
    "# Microsoft stock price analysis\n",
    "## General analysis and visualization\n",
    "\n",
    "In this notebook we clean and visualize Microsoft stock prices as an example for a financial time series. We want to prepare the data for time series predictions usind ARIMA and LSTM.\n",
    "\n",
    "The data is from \n",
    "https://www.nasdaq.com/market-activity/stocks/msft/historical\n",
    "\n"
   ]
  },
  {
   "cell_type": "markdown",
   "metadata": {},
   "source": [
    "## Importing moduls"
   ]
  },
  {
   "cell_type": "code",
   "execution_count": 1,
   "metadata": {},
   "outputs": [],
   "source": [
    "import pandas as pd\n",
    "import matplotlib.pyplot as plt\n",
    "%matplotlib inline"
   ]
  },
  {
   "cell_type": "markdown",
   "metadata": {},
   "source": [
    "## Importing the data"
   ]
  },
  {
   "cell_type": "code",
   "execution_count": 2,
   "metadata": {},
   "outputs": [],
   "source": [
    "msft_stock_df = pd.read_csv('data/msft_stock_price.csv')"
   ]
  },
  {
   "cell_type": "markdown",
   "metadata": {},
   "source": [
    "## First entries"
   ]
  },
  {
   "cell_type": "code",
   "execution_count": 3,
   "metadata": {},
   "outputs": [
    {
     "name": "stdout",
     "output_type": "stream",
     "text": [
      "(2517, 6)\n"
     ]
    },
    {
     "data": {
      "text/html": [
       "<div>\n",
       "<style scoped>\n",
       "    .dataframe tbody tr th:only-of-type {\n",
       "        vertical-align: middle;\n",
       "    }\n",
       "\n",
       "    .dataframe tbody tr th {\n",
       "        vertical-align: top;\n",
       "    }\n",
       "\n",
       "    .dataframe thead th {\n",
       "        text-align: right;\n",
       "    }\n",
       "</style>\n",
       "<table border=\"1\" class=\"dataframe\">\n",
       "  <thead>\n",
       "    <tr style=\"text-align: right;\">\n",
       "      <th></th>\n",
       "      <th>Date</th>\n",
       "      <th>Close/Last</th>\n",
       "      <th>Volume</th>\n",
       "      <th>Open</th>\n",
       "      <th>High</th>\n",
       "      <th>Low</th>\n",
       "    </tr>\n",
       "  </thead>\n",
       "  <tbody>\n",
       "    <tr>\n",
       "      <td>0</td>\n",
       "      <td>07/13/2020</td>\n",
       "      <td>$207.07</td>\n",
       "      <td>38135610</td>\n",
       "      <td>$214.48</td>\n",
       "      <td>$215.8</td>\n",
       "      <td>$206.5</td>\n",
       "    </tr>\n",
       "    <tr>\n",
       "      <td>1</td>\n",
       "      <td>07/10/2020</td>\n",
       "      <td>$213.67</td>\n",
       "      <td>26177630</td>\n",
       "      <td>$213.62</td>\n",
       "      <td>$214.08</td>\n",
       "      <td>$211.08</td>\n",
       "    </tr>\n",
       "    <tr>\n",
       "      <td>2</td>\n",
       "      <td>07/09/2020</td>\n",
       "      <td>$214.32</td>\n",
       "      <td>33121680</td>\n",
       "      <td>$216.33</td>\n",
       "      <td>$216.38</td>\n",
       "      <td>$211.47</td>\n",
       "    </tr>\n",
       "    <tr>\n",
       "      <td>3</td>\n",
       "      <td>07/08/2020</td>\n",
       "      <td>$212.83</td>\n",
       "      <td>33600030</td>\n",
       "      <td>$210.07</td>\n",
       "      <td>$213.26</td>\n",
       "      <td>$208.69</td>\n",
       "    </tr>\n",
       "    <tr>\n",
       "      <td>4</td>\n",
       "      <td>07/07/2020</td>\n",
       "      <td>$208.25</td>\n",
       "      <td>33600730</td>\n",
       "      <td>$210.45</td>\n",
       "      <td>$214.67</td>\n",
       "      <td>$207.99</td>\n",
       "    </tr>\n",
       "  </tbody>\n",
       "</table>\n",
       "</div>"
      ],
      "text/plain": [
       "         Date  Close/Last    Volume      Open      High       Low\n",
       "0  07/13/2020     $207.07  38135610   $214.48    $215.8    $206.5\n",
       "1  07/10/2020     $213.67  26177630   $213.62   $214.08   $211.08\n",
       "2  07/09/2020     $214.32  33121680   $216.33   $216.38   $211.47\n",
       "3  07/08/2020     $212.83  33600030   $210.07   $213.26   $208.69\n",
       "4  07/07/2020     $208.25  33600730   $210.45   $214.67   $207.99"
      ]
     },
     "execution_count": 3,
     "metadata": {},
     "output_type": "execute_result"
    }
   ],
   "source": [
    "print(msft_stock_df.shape)\n",
    "msft_stock_df.head()"
   ]
  },
  {
   "cell_type": "markdown",
   "metadata": {},
   "source": [
    "## Info's and data types"
   ]
  },
  {
   "cell_type": "code",
   "execution_count": 4,
   "metadata": {},
   "outputs": [
    {
     "name": "stdout",
     "output_type": "stream",
     "text": [
      "<class 'pandas.core.frame.DataFrame'>\n",
      "RangeIndex: 2517 entries, 0 to 2516\n",
      "Data columns (total 6 columns):\n",
      "Date           2517 non-null object\n",
      " Close/Last    2517 non-null object\n",
      " Volume        2517 non-null int64\n",
      " Open          2517 non-null object\n",
      " High          2517 non-null object\n",
      " Low           2517 non-null object\n",
      "dtypes: int64(1), object(5)\n",
      "memory usage: 118.1+ KB\n"
     ]
    }
   ],
   "source": [
    "msft_stock_df.info()"
   ]
  },
  {
   "cell_type": "markdown",
   "metadata": {},
   "source": [
    "No missing data, but not usable datatypes"
   ]
  },
  {
   "cell_type": "markdown",
   "metadata": {},
   "source": [
    "## Cleaning"
   ]
  },
  {
   "cell_type": "code",
   "execution_count": 7,
   "metadata": {},
   "outputs": [],
   "source": [
    "# format the column names\n",
    "msft_stock_df.columns = [x.lower().strip(' ').replace('/last', '') for x in msft_stock_df.columns]\n",
    "\n",
    "# convert to datetime\n",
    "msft_stock_df['date'] = pd.to_datetime(msft_stock_df['date'])\n",
    "\n",
    "# convert rest to numeric\n",
    "for col in msft_stock_df.columns[1:]:\n",
    "    msft_stock_df[col] = [pd.to_numeric(str(x).replace(' $', '')) for x in msft_stock_df[col]]\n",
    "\n",
    "# change it to timely increasing\n",
    "msft_stock_df = msft_stock_df.sort_values('date', ascending = True)\n",
    "msft_stock_df = msft_stock_df.reset_index(drop = True)"
   ]
  },
  {
   "cell_type": "markdown",
   "metadata": {},
   "source": [
    "# Showing the recent observations in the cleaned dataframe"
   ]
  },
  {
   "cell_type": "code",
   "execution_count": 8,
   "metadata": {},
   "outputs": [
    {
     "data": {
      "text/html": [
       "<div>\n",
       "<style scoped>\n",
       "    .dataframe tbody tr th:only-of-type {\n",
       "        vertical-align: middle;\n",
       "    }\n",
       "\n",
       "    .dataframe tbody tr th {\n",
       "        vertical-align: top;\n",
       "    }\n",
       "\n",
       "    .dataframe thead th {\n",
       "        text-align: right;\n",
       "    }\n",
       "</style>\n",
       "<table border=\"1\" class=\"dataframe\">\n",
       "  <thead>\n",
       "    <tr style=\"text-align: right;\">\n",
       "      <th></th>\n",
       "      <th>date</th>\n",
       "      <th>close</th>\n",
       "      <th>volume</th>\n",
       "      <th>open</th>\n",
       "      <th>high</th>\n",
       "      <th>low</th>\n",
       "    </tr>\n",
       "  </thead>\n",
       "  <tbody>\n",
       "    <tr>\n",
       "      <td>2512</td>\n",
       "      <td>2020-07-07</td>\n",
       "      <td>208.25</td>\n",
       "      <td>33600730</td>\n",
       "      <td>210.45</td>\n",
       "      <td>214.67</td>\n",
       "      <td>207.99</td>\n",
       "    </tr>\n",
       "    <tr>\n",
       "      <td>2513</td>\n",
       "      <td>2020-07-08</td>\n",
       "      <td>212.83</td>\n",
       "      <td>33600030</td>\n",
       "      <td>210.07</td>\n",
       "      <td>213.26</td>\n",
       "      <td>208.69</td>\n",
       "    </tr>\n",
       "    <tr>\n",
       "      <td>2514</td>\n",
       "      <td>2020-07-09</td>\n",
       "      <td>214.32</td>\n",
       "      <td>33121680</td>\n",
       "      <td>216.33</td>\n",
       "      <td>216.38</td>\n",
       "      <td>211.47</td>\n",
       "    </tr>\n",
       "    <tr>\n",
       "      <td>2515</td>\n",
       "      <td>2020-07-10</td>\n",
       "      <td>213.67</td>\n",
       "      <td>26177630</td>\n",
       "      <td>213.62</td>\n",
       "      <td>214.08</td>\n",
       "      <td>211.08</td>\n",
       "    </tr>\n",
       "    <tr>\n",
       "      <td>2516</td>\n",
       "      <td>2020-07-13</td>\n",
       "      <td>207.07</td>\n",
       "      <td>38135610</td>\n",
       "      <td>214.48</td>\n",
       "      <td>215.80</td>\n",
       "      <td>206.50</td>\n",
       "    </tr>\n",
       "  </tbody>\n",
       "</table>\n",
       "</div>"
      ],
      "text/plain": [
       "           date   close    volume    open    high     low\n",
       "2512 2020-07-07  208.25  33600730  210.45  214.67  207.99\n",
       "2513 2020-07-08  212.83  33600030  210.07  213.26  208.69\n",
       "2514 2020-07-09  214.32  33121680  216.33  216.38  211.47\n",
       "2515 2020-07-10  213.67  26177630  213.62  214.08  211.08\n",
       "2516 2020-07-13  207.07  38135610  214.48  215.80  206.50"
      ]
     },
     "execution_count": 8,
     "metadata": {},
     "output_type": "execute_result"
    }
   ],
   "source": [
    "msft_stock_df.tail()"
   ]
  },
  {
   "cell_type": "markdown",
   "metadata": {},
   "source": [
    "## Description"
   ]
  },
  {
   "cell_type": "code",
   "execution_count": 9,
   "metadata": {},
   "outputs": [
    {
     "data": {
      "text/html": [
       "<div>\n",
       "<style scoped>\n",
       "    .dataframe tbody tr th:only-of-type {\n",
       "        vertical-align: middle;\n",
       "    }\n",
       "\n",
       "    .dataframe tbody tr th {\n",
       "        vertical-align: top;\n",
       "    }\n",
       "\n",
       "    .dataframe thead th {\n",
       "        text-align: right;\n",
       "    }\n",
       "</style>\n",
       "<table border=\"1\" class=\"dataframe\">\n",
       "  <thead>\n",
       "    <tr style=\"text-align: right;\">\n",
       "      <th></th>\n",
       "      <th>count</th>\n",
       "      <th>mean</th>\n",
       "      <th>std</th>\n",
       "      <th>min</th>\n",
       "      <th>25%</th>\n",
       "      <th>50%</th>\n",
       "      <th>75%</th>\n",
       "      <th>max</th>\n",
       "    </tr>\n",
       "  </thead>\n",
       "  <tbody>\n",
       "    <tr>\n",
       "      <td>close</td>\n",
       "      <td>2517.0</td>\n",
       "      <td>6.407449e+01</td>\n",
       "      <td>4.252234e+01</td>\n",
       "      <td>23.465</td>\n",
       "      <td>30.78</td>\n",
       "      <td>47.13</td>\n",
       "      <td>88.00</td>\n",
       "      <td>2.143200e+02</td>\n",
       "    </tr>\n",
       "    <tr>\n",
       "      <td>volume</td>\n",
       "      <td>2517.0</td>\n",
       "      <td>3.856333e+07</td>\n",
       "      <td>2.136248e+07</td>\n",
       "      <td>7425603.000</td>\n",
       "      <td>24079770.00</td>\n",
       "      <td>33238000.00</td>\n",
       "      <td>48278130.00</td>\n",
       "      <td>2.697649e+08</td>\n",
       "    </tr>\n",
       "    <tr>\n",
       "      <td>open</td>\n",
       "      <td>2517.0</td>\n",
       "      <td>6.404986e+01</td>\n",
       "      <td>4.251093e+01</td>\n",
       "      <td>23.600</td>\n",
       "      <td>30.82</td>\n",
       "      <td>47.02</td>\n",
       "      <td>87.85</td>\n",
       "      <td>2.163300e+02</td>\n",
       "    </tr>\n",
       "    <tr>\n",
       "      <td>high</td>\n",
       "      <td>2517.0</td>\n",
       "      <td>6.463673e+01</td>\n",
       "      <td>4.298266e+01</td>\n",
       "      <td>23.730</td>\n",
       "      <td>31.05</td>\n",
       "      <td>47.54</td>\n",
       "      <td>88.58</td>\n",
       "      <td>2.163800e+02</td>\n",
       "    </tr>\n",
       "    <tr>\n",
       "      <td>low</td>\n",
       "      <td>2517.0</td>\n",
       "      <td>6.343713e+01</td>\n",
       "      <td>4.200039e+01</td>\n",
       "      <td>23.320</td>\n",
       "      <td>30.52</td>\n",
       "      <td>46.62</td>\n",
       "      <td>87.08</td>\n",
       "      <td>2.114700e+02</td>\n",
       "    </tr>\n",
       "  </tbody>\n",
       "</table>\n",
       "</div>"
      ],
      "text/plain": [
       "         count          mean           std          min          25%  \\\n",
       "close   2517.0  6.407449e+01  4.252234e+01       23.465        30.78   \n",
       "volume  2517.0  3.856333e+07  2.136248e+07  7425603.000  24079770.00   \n",
       "open    2517.0  6.404986e+01  4.251093e+01       23.600        30.82   \n",
       "high    2517.0  6.463673e+01  4.298266e+01       23.730        31.05   \n",
       "low     2517.0  6.343713e+01  4.200039e+01       23.320        30.52   \n",
       "\n",
       "                50%          75%           max  \n",
       "close         47.13        88.00  2.143200e+02  \n",
       "volume  33238000.00  48278130.00  2.697649e+08  \n",
       "open          47.02        87.85  2.163300e+02  \n",
       "high          47.54        88.58  2.163800e+02  \n",
       "low           46.62        87.08  2.114700e+02  "
      ]
     },
     "execution_count": 9,
     "metadata": {},
     "output_type": "execute_result"
    }
   ],
   "source": [
    "msft_stock_df.describe().T"
   ]
  },
  {
   "cell_type": "code",
   "execution_count": 10,
   "metadata": {},
   "outputs": [
    {
     "name": "stderr",
     "output_type": "stream",
     "text": [
      "C:\\Anaconda3\\lib\\site-packages\\pandas\\plotting\\_matplotlib\\converter.py:103: FutureWarning: Using an implicitly registered datetime converter for a matplotlib plotting method. The converter was registered by pandas on import. Future versions of pandas will require you to explicitly register matplotlib converters.\n",
      "\n",
      "To register the converters:\n",
      "\t>>> from pandas.plotting import register_matplotlib_converters\n",
      "\t>>> register_matplotlib_converters()\n",
      "  warnings.warn(msg, FutureWarning)\n"
     ]
    },
    {
     "data": {
      "image/png": "[encoded data removed]",
      "text/plain": [
       "<Figure size 936x360 with 2 Axes>"
      ]
     },
     "metadata": {
      "needs_background": "light"
     },
     "output_type": "display_data"
    }
   ],
   "source": [
    "# for formatting of date indexed axis\n",
    "import matplotlib.dates as mdates\n",
    "\n",
    "current_bool = (msft_stock_df.date > pd.to_datetime('2020/01/01'))\n",
    "\n",
    "plt.figure(figsize = (13,5))\n",
    "plt.suptitle('Microsoft stock\\'s closing price overview')\n",
    "\n",
    "plt.subplot(1,2,1)\n",
    "plt.plot('date', 'close',data = msft_stock_df)\n",
    "plt.ylabel('Stock price in USD')\n",
    "plt.xticks(rotation = '45')\n",
    "plt.title('Overall')\n",
    "\n",
    "ax = plt.subplot(1,2,2)\n",
    "ax.plot('date', 'close', data = msft_stock_df[current_bool],\n",
    "        label = 'Msft stock\\'s closing price')\n",
    "ax.plot(msft_stock_df['date'][current_bool],\n",
    "         msft_stock_df['close'].rolling(10).mean()[current_bool],\n",
    "        label = 'Rolling mean of order 10')\n",
    "ax.legend()\n",
    "ax.set_title('2020')\n",
    "ax.xaxis.set_major_locator(mdates.MonthLocator())\n",
    "ax.format_xdata = mdates.DateFormatter('%b')\n",
    "plt.xticks(rotation = '45')\n",
    "\n",
    "plt.show()"
   ]
  },
  {
   "cell_type": "code",
   "execution_count": 11,
   "metadata": {},
   "outputs": [
    {
     "data": {
      "text/plain": [
       "[]"
      ]
     },
     "execution_count": 11,
     "metadata": {},
     "output_type": "execute_result"
    },
    {
     "data": {
      "image/png": "[encoded data removed]",
      "text/plain": [
       "<Figure size 432x288 with 1 Axes>"
      ]
     },
     "metadata": {
      "needs_background": "light"
     },
     "output_type": "display_data"
    }
   ],
   "source": [
    "msft_stock_df[current_bool].set_index('date').drop('volume', axis = 1).plot()\n",
    "plt.title('Microsoft stock\\'s  price overview')\n",
    "plt.plot()"
   ]
  },
  {
   "cell_type": "code",
   "execution_count": 12,
   "metadata": {},
   "outputs": [],
   "source": [
    "msft_stock_df.to_csv(\"data\\msft_stock_price_cleaned.csv\")"
   ]
  }
 ],
 "metadata": {
  "kernelspec": {
   "display_name": "Python 3",
   "language": "python",
   "name": "python3"
  },
  "language_info": {
   "codemirror_mode": {
    "name": "ipython",
    "version": 3
   },
   "file_extension": ".py",
   "mimetype": "text/x-python",
   "name": "python",
   "nbconvert_exporter": "python",
   "pygments_lexer": "ipython3",
   "version": "3.7.4"
  }
 },
 "nbformat": 4,
 "nbformat_minor": 2
}
